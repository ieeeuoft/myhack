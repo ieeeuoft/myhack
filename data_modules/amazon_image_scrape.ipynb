{
 "cells": [
  {
   "cell_type": "code",
   "execution_count": 1,
   "id": "2e6e49a5-13f9-4f17-9610-29e6c0476c0f",
   "metadata": {
    "tags": []
   },
   "outputs": [],
   "source": [
    "# export dependencies' file paths\n",
    "import sys \n",
    "sys.path.append('/home/jupyter/.local/lib/python3.10/site-packages')\n",
    "sys.path.append('/usr/lib/python3/dist-packages')\n",
    "sys.path.append('/bin/google-chrome')\n",
    "sys.path.append('/bin')"
   ]
  },
  {
   "cell_type": "code",
   "execution_count": 2,
   "id": "ae18e6b4-05cb-444b-95f8-c8111059d064",
   "metadata": {
    "tags": []
   },
   "outputs": [],
   "source": [
    "import requests\n",
    "import pandas as pd\n",
    "import re\n",
    "from bs4 import BeautifulSoup\n",
    "import urllib\n",
    "from datetime import datetime\n",
    "import os\n",
    "import time\n",
    "from urllib.parse import urlencode, urljoin"
   ]
  },
  {
   "cell_type": "code",
   "execution_count": 3,
   "id": "714427bd-aff3-4490-8942-caa7f7ba662b",
   "metadata": {
    "tags": []
   },
   "outputs": [],
   "source": [
    "# used to avoid Amazon blocking the scraper \n",
    "SCRAPEOPS_API_KEY = 'ced5bffb-0941-4ba2-8faa-ee55f55f1f0a'"
   ]
  },
  {
   "cell_type": "code",
   "execution_count": 4,
   "id": "e3354bc3-4866-46ef-bfee-0411d068f5f5",
   "metadata": {
    "tags": []
   },
   "outputs": [],
   "source": [
    "def scrapeops_url(url):\n",
    "    payload = {'api_key': SCRAPEOPS_API_KEY, 'url': url, 'country': 'us'}\n",
    "    proxy_url = 'https://proxy.scrapeops.io/v1/?' + urlencode(payload)\n",
    "    return proxy_url"
   ]
  },
  {
   "cell_type": "code",
   "execution_count": 8,
   "id": "721e47fa-9b77-49b7-9920-f00ebc0a5bd2",
   "metadata": {
    "tags": []
   },
   "outputs": [],
   "source": [
    "def amazon_image_scrape(name_item, topic_name):\n",
    "    search_url = f'https://www.amazon.com/s?k={topic_name}&page=1'\n",
    "\n",
    "    html = requests.get(scrapeops_url(search_url))\n",
    "    \n",
    "    print(html)\n",
    "    soup = BeautifulSoup(html.content, features=\"lxml\")\n",
    "    links = soup.find_all(\"a\", attrs={'class':'a-link-normal s-no-outline'})\n",
    "\n",
    "    arr_list = [] # store searched result links\n",
    "\n",
    "    df = pd.DataFrame([], columns=['Title', 'Source URL', 'Time', 'Source']) # create data frame\n",
    "\n",
    "    for link in links:\n",
    "        arr_list.append(link.get('href'))\n",
    "\n",
    "    for count, link in enumerate(arr_list):\n",
    "        webpage_url = \"https://www.amazon.com\" + link\n",
    "        webpage = requests.get(webpage_url, headers=HEADERS)\n",
    "        new_soup = BeautifulSoup(webpage.content, \"lxml\")\n",
    "        \n",
    "        title = None\n",
    "        \n",
    "        # get product title\n",
    "        try:\n",
    "            title = new_soup.find(\"span\", attrs={\"id\": 'productTitle'}).text.strip()\n",
    "        except AttributeError:\n",
    "            print(\"Cannot retrieve product title\")\n",
    "\n",
    "        current_time = datetime.now()\n",
    "        formatted_time = current_time.strftime(\"%Y-%m-%d %H:%M:%S\")\n",
    "\n",
    "        row = {\n",
    "            \"Title\": title,\n",
    "            \"Source URL\": webpage_url,\n",
    "            \"Time\": formatted_time,\n",
    "            \"Source\": \"Amazon\"\n",
    "        }\n",
    "\n",
    "        df = pd.concat([df, pd.DataFrame([row])], ignore_index=True)\n",
    "\n",
    "        images = re.findall('\"hiRes\":\"(.+?)\"', webpage.text)\n",
    "\n",
    "        for num, img_url in enumerate(images):\n",
    "            img_dir = \"./img/{topic}/\".format(topic=name_item)\n",
    "            os.makedirs(img_dir, exist_ok=True)  # create the directory if it doesn't exist\n",
    "            img_filename = img_dir + \"image{num}_amazon.jpg\".format(num=num)\n",
    "            img_filename.format(topic=name_item, i=num)\n",
    "            urllib.request.urlretrieve(img_url, img_filename) # retrieve images\n",
    "\n",
    "    return df"
   ]
  },
  {
   "cell_type": "code",
   "execution_count": 9,
   "id": "96e4278c-b00d-42fa-bb7d-f1c8482eb5a2",
   "metadata": {
    "tags": []
   },
   "outputs": [
    {
     "name": "stdout",
     "output_type": "stream",
     "text": [
      "<Response [403]>\n"
     ]
    },
    {
     "data": {
      "text/html": [
       "<div>\n",
       "<style scoped>\n",
       "    .dataframe tbody tr th:only-of-type {\n",
       "        vertical-align: middle;\n",
       "    }\n",
       "\n",
       "    .dataframe tbody tr th {\n",
       "        vertical-align: top;\n",
       "    }\n",
       "\n",
       "    .dataframe thead th {\n",
       "        text-align: right;\n",
       "    }\n",
       "</style>\n",
       "<table border=\"1\" class=\"dataframe\">\n",
       "  <thead>\n",
       "    <tr style=\"text-align: right;\">\n",
       "      <th></th>\n",
       "      <th>Title</th>\n",
       "      <th>Source URL</th>\n",
       "      <th>Time</th>\n",
       "      <th>Source</th>\n",
       "    </tr>\n",
       "  </thead>\n",
       "  <tbody>\n",
       "  </tbody>\n",
       "</table>\n",
       "</div>"
      ],
      "text/plain": [
       "Empty DataFrame\n",
       "Columns: [Title, Source URL, Time, Source]\n",
       "Index: []"
      ]
     },
     "metadata": {},
     "output_type": "display_data"
    }
   ],
   "source": [
    "output_amazon_df = amazon_image_scrape(\"toys\", \"toys\")\n",
    "display(output_amazon_df)"
   ]
  },
  {
   "cell_type": "code",
   "execution_count": 10,
   "id": "be87fc14-c210-4074-a682-ea74196e5ed5",
   "metadata": {
    "tags": []
   },
   "outputs": [
    {
     "ename": "NameError",
     "evalue": "name 'gg' is not defined",
     "output_type": "error",
     "traceback": [
      "\u001b[0;31m---------------------------------------------------------------------------\u001b[0m",
      "\u001b[0;31mNameError\u001b[0m                                 Traceback (most recent call last)",
      "Cell \u001b[0;32mIn[10], line 1\u001b[0m\n\u001b[0;32m----> 1\u001b[0m \u001b[43mgg\u001b[49m\n",
      "\u001b[0;31mNameError\u001b[0m: name 'gg' is not defined"
     ]
    }
   ],
   "source": [
    "gg"
   ]
  }
 ],
 "metadata": {
  "kernelspec": {
   "display_name": "Python 3 (ipykernel)",
   "language": "python",
   "name": "python3"
  },
  "language_info": {
   "codemirror_mode": {
    "name": "ipython",
    "version": 3
   },
   "file_extension": ".py",
   "mimetype": "text/x-python",
   "name": "python",
   "nbconvert_exporter": "python",
   "pygments_lexer": "ipython3",
   "version": "3.10.6"
  }
 },
 "nbformat": 4,
 "nbformat_minor": 5
}
