{
 "cells": [
  {
   "cell_type": "code",
   "execution_count": 1,
   "id": "1cd832d4-736a-4c72-8539-db71af4c9b06",
   "metadata": {
    "tags": []
   },
   "outputs": [],
   "source": [
    "# export dependencies' file paths\n",
    "import sys \n",
    "sys.path.append('/home/jupyter/.local/lib/python3.10/site-packages')\n",
    "sys.path.append('/usr/lib/python3/dist-packages')"
   ]
  },
  {
   "cell_type": "code",
   "execution_count": 4,
   "id": "5ce84275-4a0b-48a0-920e-75dee11cefed",
   "metadata": {},
   "outputs": [
    {
     "ename": "ImportError",
     "evalue": "Unable to import required dependencies:\nnumpy: cannot import name '_CopyMode' from 'numpy._globals' (/usr/lib/python3/dist-packages/numpy/_globals.py)",
     "output_type": "error",
     "traceback": [
      "\u001b[0;31m---------------------------------------------------------------------------\u001b[0m",
      "\u001b[0;31mImportError\u001b[0m                               Traceback (most recent call last)",
      "Cell \u001b[0;32mIn[4], line 2\u001b[0m\n\u001b[1;32m      1\u001b[0m \u001b[39mimport\u001b[39;00m \u001b[39mos\u001b[39;00m\n\u001b[0;32m----> 2\u001b[0m \u001b[39mimport\u001b[39;00m \u001b[39mpandas\u001b[39;00m \u001b[39mas\u001b[39;00m \u001b[39mpd\u001b[39;00m\n\u001b[1;32m      3\u001b[0m \u001b[39mfrom\u001b[39;00m \u001b[39mipynb\u001b[39;00m\u001b[39m.\u001b[39;00m\u001b[39mfs\u001b[39;00m\u001b[39m.\u001b[39;00m\u001b[39mfull\u001b[39;00m\u001b[39m.\u001b[39;00m\u001b[39mparse_list\u001b[39;00m \u001b[39mimport\u001b[39;00m \u001b[39m*\u001b[39m\n\u001b[1;32m      4\u001b[0m \u001b[39mfrom\u001b[39;00m \u001b[39mtorchvision\u001b[39;00m\u001b[39m.\u001b[39;00m\u001b[39mio\u001b[39;00m \u001b[39mimport\u001b[39;00m read_image\n",
      "File \u001b[0;32m~/anaconda3/envs/ieee_web/lib/python3.8/site-packages/pandas/__init__.py:16\u001b[0m\n\u001b[1;32m     13\u001b[0m         _missing_dependencies\u001b[39m.\u001b[39mappend(\u001b[39mf\u001b[39m\u001b[39m\"\u001b[39m\u001b[39m{\u001b[39;00m_dependency\u001b[39m}\u001b[39;00m\u001b[39m: \u001b[39m\u001b[39m{\u001b[39;00m_e\u001b[39m}\u001b[39;00m\u001b[39m\"\u001b[39m)\n\u001b[1;32m     15\u001b[0m \u001b[39mif\u001b[39;00m _missing_dependencies:  \u001b[39m# pragma: no cover\u001b[39;00m\n\u001b[0;32m---> 16\u001b[0m     \u001b[39mraise\u001b[39;00m \u001b[39mImportError\u001b[39;00m(\n\u001b[1;32m     17\u001b[0m         \u001b[39m\"\u001b[39m\u001b[39mUnable to import required dependencies:\u001b[39m\u001b[39m\\n\u001b[39;00m\u001b[39m\"\u001b[39m \u001b[39m+\u001b[39m \u001b[39m\"\u001b[39m\u001b[39m\\n\u001b[39;00m\u001b[39m\"\u001b[39m\u001b[39m.\u001b[39mjoin(_missing_dependencies)\n\u001b[1;32m     18\u001b[0m     )\n\u001b[1;32m     19\u001b[0m \u001b[39mdel\u001b[39;00m _hard_dependencies, _dependency, _missing_dependencies\n\u001b[1;32m     21\u001b[0m \u001b[39m# numpy compat\u001b[39;00m\n",
      "\u001b[0;31mImportError\u001b[0m: Unable to import required dependencies:\nnumpy: cannot import name '_CopyMode' from 'numpy._globals' (/usr/lib/python3/dist-packages/numpy/_globals.py)"
     ]
    }
   ],
   "source": [
    "import os\n",
    "import pandas as pd\n",
    "from ipynb.fs.full.parse_list import *\n",
    "from torchvision.io import read_image\n",
    "from torch.utils.data import Dataset"
   ]
  },
  {
   "cell_type": "code",
   "execution_count": null,
   "id": "42f978f2-de6c-45e3-ae5f-8fd0d67b0c5f",
   "metadata": {
    "tags": []
   },
   "outputs": [],
   "source": [
    "parent = './img'\n",
    "for item in arr_item:\n",
    "    path = os.path.join(parent, item[1])\n",
    "    os.makedirs(path, exist_ok=True)\n"
   ]
  },
  {
   "cell_type": "code",
   "execution_count": null,
   "id": "727701a6-81a6-4786-94df-b8eaedc4ba7b",
   "metadata": {},
   "outputs": [],
   "source": [
    "parent_folder = './dataset'\n",
    "df = pd.read_excel('IEEE Hardware Inventory 2023-2024.xlsx')\n",
    "unique_categories = pd.unique(df['categories'])\n",
    "\n",
    "for category in unique_categories: \n",
    "    path = os.path.join(parent_folder, category)\n",
    "    os.makedirs(path, exist_ok=True)\n"
   ]
  },
  {
   "cell_type": "code",
   "execution_count": null,
   "id": "3457d6ee-5514-457e-b295-ac39b4243591",
   "metadata": {},
   "outputs": [
    {
     "name": "stdout",
     "output_type": "stream",
     "text": [
      "./img/USBLight\n"
     ]
    },
    {
     "data": {
      "text/plain": [
       "'./dataset/Computer Peripherals/USBLight'"
      ]
     },
     "execution_count": 34,
     "metadata": {},
     "output_type": "execute_result"
    }
   ],
   "source": [
    "num_rows = df.shape[0]\n",
    "column_name = 'categories'\n",
    "\n",
    "for i in range(1, num_rows, 1):\n",
    "    cell_value = df.at[0, column_name]\n",
    "    target = './dataset/{category}'.format(category=cell_value)\n",
    "    original = './img/{name_item}'.format(name_item=arr_item[0][1])\n",
    "    shutil.move(original, target)\n",
    "    "
   ]
  },
  {
   "cell_type": "code",
   "execution_count": null,
   "id": "116d3690-9899-4cd3-b195-7231c26a9402",
   "metadata": {
    "tags": []
   },
   "outputs": [],
   "source": [
    "class MyHackImageDataset(Dataset):\n",
    "    def __init__(self, metadata_csv, img_dir, category, transform=None):\n",
    "        self.img_labels = pd.read_csv(metadata_csv)\n",
    "        self.img_dir = img_dir\n",
    "        self.transform = transform\n",
    "        \n",
    "    def size_dataset(self):\n",
    "        return len(self.img_labels)\n",
    "    \n",
    "    def get_data(self, idx):\n",
    "        img_path = os.path.join(img_dir, self.img_labels[idx, 'categories'])\n",
    "        image = read_image(img_path)\n",
    "        label = self.img_labels[idx, 'name']\n",
    "        if self.transform: image = self.transform(image)\n",
    "            \n",
    "        return image, label\n"
   ]
  }
 ],
 "metadata": {
  "kernelspec": {
   "display_name": "Python 3 (ipykernel)",
   "language": "python",
   "name": "python3"
  },
  "language_info": {
   "codemirror_mode": {
    "name": "ipython",
    "version": 3
   },
   "file_extension": ".py",
   "mimetype": "text/x-python",
   "name": "python",
   "nbconvert_exporter": "python",
   "pygments_lexer": "ipython3",
   "version": "3.8.16"
  }
 },
 "nbformat": 4,
 "nbformat_minor": 5
}
