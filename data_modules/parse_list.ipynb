{
 "cells": [
  {
   "cell_type": "code",
   "execution_count": 1,
   "id": "776e5a30-b06c-4402-b807-739466f85a49",
   "metadata": {},
   "outputs": [],
   "source": [
    "# export dependencies' file paths\n",
    "import sys \n",
    "sys.path.append('/home/jupyter/.local/lib/python3.10/site-packages')"
   ]
  },
  {
   "cell_type": "code",
   "execution_count": 9,
   "id": "7a63209c-6590-4698-bb58-655ff8c3bff3",
   "metadata": {
    "tags": []
   },
   "outputs": [],
   "source": [
    "import pandas as pd\n",
    "import openpyxl\n",
    "import os\n",
    "import cv2 as cv\n",
    "import shutil"
   ]
  },
  {
   "cell_type": "code",
   "execution_count": 3,
   "id": "7dfb6779-1546-4e78-9a0c-5f6b4d085701",
   "metadata": {
    "tags": []
   },
   "outputs": [],
   "source": [
    "# read hardware component Excel sheet\n",
    "hardware_components = pd.read_excel(\n",
    "    'IEEE Hardware Inventory 2023-2024.xlsx',\n",
    "    sheet_name='2022-2023 inventory',\n",
    ")"
   ]
  },
  {
   "cell_type": "code",
   "execution_count": 4,
   "id": "8ca7d64b-b2a1-4fc6-8774-ef4e530b9afc",
   "metadata": {
    "tags": []
   },
   "outputs": [],
   "source": [
    "size_list = hardware_components['name'].size # total number of hardware items\n",
    "arr_item = [] # holds all item's full names"
   ]
  },
  {
   "cell_type": "code",
   "execution_count": 5,
   "id": "d913112d-fe7e-4e4c-9cb3-05658da0c52b",
   "metadata": {
    "tags": []
   },
   "outputs": [],
   "source": [
    " # loop through the rows and get the item's: name, manufacturer, and model\n",
    "for i in range(size_list):\n",
    "    curr_item = []\n",
    "    # if a field does not exist, replace with empty string\n",
    "    name = \"\" if str(hardware_components['name'].iloc[i]) == \"nan\" else str(hardware_components['name'].iloc[i])\n",
    "    manufacturer = \"\" if str(hardware_components['manufacturer'].iloc[i]) == \"nan\" else str(hardware_components['manufacturer'].iloc[i])\n",
    "    model = \"\" if str(hardware_components['model_number'].iloc[i]) == \"nan\" else str(hardware_components['model_number'].iloc[i])\n",
    "    curr_item.append(name + \" \" + manufacturer + \" \" + model) # append into arr\n",
    "    curr_item.append(name.replace(\" \", \"\"))\n",
    "    arr_item.append(curr_item)"
   ]
  }
 ],
 "metadata": {
  "kernelspec": {
   "display_name": "Python 3 (ipykernel)",
   "language": "python",
   "name": "python3"
  },
  "language_info": {
   "codemirror_mode": {
    "name": "ipython",
    "version": 3
   },
   "file_extension": ".py",
   "mimetype": "text/x-python",
   "name": "python",
   "nbconvert_exporter": "python",
   "pygments_lexer": "ipython3",
   "version": "3.10.6"
  }
 },
 "nbformat": 4,
 "nbformat_minor": 5
}
