{
 "cells": [
  {
   "cell_type": "code",
   "execution_count": 1,
   "id": "6eac82b4-b5ac-4d9c-8520-44fdebaf028f",
   "metadata": {
    "tags": []
   },
   "outputs": [],
   "source": [
    "# export dependencies' file paths\n",
    "import sys \n",
    "sys.path.append('/home/jupyter/.local/lib/python3.10/site-packages')\n",
    "sys.path.append('/usr/lib/python3/dist-packages')\n",
    "sys.path.append('/bin/google-chrome')\n",
    "sys.path.append('/bin')"
   ]
  },
  {
   "cell_type": "code",
   "execution_count": 2,
   "id": "bbfda5cc-9b43-4019-a600-3592fe150f65",
   "metadata": {
    "tags": []
   },
   "outputs": [],
   "source": [
    "import pandas as pd\n",
    "from selenium import webdriver\n",
    "from selenium.webdriver.common.by import By\n",
    "from selenium.common.exceptions import TimeoutException\n",
    "from selenium.webdriver.support.ui import WebDriverWait\n",
    "from selenium.webdriver.support import expected_conditions as ec\n",
    "import time\n",
    "import requests\n",
    "from datetime import datetime\n",
    "import urllib\n",
    "import os"
   ]
  },
  {
   "cell_type": "code",
   "execution_count": 4,
   "id": "8918ace9-9b32-46fa-a4a1-a5b1ee02d783",
   "metadata": {
    "tags": []
   },
   "outputs": [],
   "source": [
    "def scroll_to_end(webdriver):\n",
    "    webdriver.execute_script(\"window.scrollTo(0, document.body.scrollHeight);\")\n",
    "    time.sleep(10)"
   ]
  },
  {
   "cell_type": "code",
   "execution_count": 5,
   "id": "5dbd9c6e-5507-48d0-9d37-610ab70c93bf",
   "metadata": {
    "tags": []
   },
   "outputs": [],
   "source": [
    "def google_image_scrape(topic_name, name_item):\n",
    "    chrome_options = webdriver.ChromeOptions() # creates instance of ChromeOptions class\n",
    "    chrome_options.add_argument('--headless') # runs Chrome in headless mode\n",
    "    chrome_options.add_argument('--no-sandbox') # disable sandbox mode in Chrome\n",
    "    chrome_options.add_argument('--disable-dev-shm-usage') # disables '/dev/shm/ for shared resources\n",
    "    driver = webdriver.Chrome('chromedriver', options=chrome_options) # defines path to ChromeDriver executable\n",
    "    driver.maximize_window()\n",
    "    \n",
    "    df = pd.DataFrame([], columns=['Title', 'Source URL', 'Time', 'Source']) # create data frame\n",
    "    \n",
    "    search_url = \"https://www.google.com/search?q={topic}&tbm=isch&ved=2ahUKEwii57id66j_AhVUGFkFHYNpAuYQ2-cCegQIABAA&oq=bluetooth+wireless+module+bluefruit+le+shield+adafruit&gs_lcp=CgNpbWcQAzIECCMQJ1DnCFjnCGC1EWgAcAB4AIABP4gBdpIBATKYAQCgAQGqAQtnd3Mtd2l6LWltZ8ABAQ&sclient=img&ei=Cxt8ZOK1JtSw5NoPg9OJsA4&bih=568&biw=1251&hl=en\"\n",
    "    driver.get(search_url.format(topic=topic_name)) # replaces topic in the search_url to the desired topic\n",
    "    \n",
    "    # Wait for images to load\n",
    "    while True:\n",
    "        last_height = driver.execute_script('return document.body.scrollHeight')\n",
    "\n",
    "        scroll_to_end(driver)\n",
    "        \n",
    "        new_height = driver.execute_script('return document.body.scrollHeight')\n",
    "        \n",
    "        if new_height == last_height:\n",
    "            break\n",
    "        \n",
    "        last_height = new_height\n",
    "        \n",
    "    \n",
    "    img_results = driver.find_elements(By.XPATH, \"//img[contains(@class,'Q4LuWd')]\") # returns a list of image elements found on webpage\n",
    "    div_elements = driver.find_elements(By.CSS_SELECTOR, 'div.isv-r.PNCib.MSM1fd.BUooTd')\n",
    "            \n",
    "    images = []\n",
    "    for i in range(len(img_results)):\n",
    "        img_src = img_results[i].get_attribute('src')\n",
    "        if img_src:\n",
    "            images.append(img_src)\n",
    "            current = datetime.now().strftime(\"%Y-%m-%d %H:%M:%S\")\n",
    "        \n",
    "            title_element = div_elements[i].find_element(By.CSS_SELECTOR, 'h3.bytUYc')\n",
    "            title = title_element.text\n",
    "\n",
    "            try:\n",
    "                link_element = div_elements[i].find_element(By.CSS_SELECTOR, 'a.VFACy.kGQAp.sMi44c.d0NI4c.lNHeqe.WGvvNb')\n",
    "                url = link_element.get_attribute('href')\n",
    "            except Exception:\n",
    "                print(\"Link element not found within the div element\")\n",
    "\n",
    "            row = {\"Title\": title, \"Source URL\": url, \"Time\": current, \"Source\": \"Google\"}\n",
    "            df = pd.concat([df, pd.DataFrame([row])], ignore_index=True)\n",
    "    \n",
    "    for num in range(len(images)):\n",
    "        img_dir = \"./img/{topic}/\".format(topic=name_item)\n",
    "        os.makedirs(img_dir, exist_ok=True)  # Create the directory if it doesn't exist\n",
    "        img_filename = img_dir + \"image{num}_google.jpg\".format(num=num)\n",
    "        urllib.request.urlretrieve(str(images[num]), img_filename)\n",
    "    \n",
    "    driver.quit()\n",
    "    \n",
    "    return df"
   ]
  }
 ],
 "metadata": {
  "kernelspec": {
   "display_name": "Python 3 (ipykernel)",
   "language": "python",
   "name": "python3"
  },
  "language_info": {
   "codemirror_mode": {
    "name": "ipython",
    "version": 3
   },
   "file_extension": ".py",
   "mimetype": "text/x-python",
   "name": "python",
   "nbconvert_exporter": "python",
   "pygments_lexer": "ipython3",
   "version": "3.10.6"
  }
 },
 "nbformat": 4,
 "nbformat_minor": 5
}
