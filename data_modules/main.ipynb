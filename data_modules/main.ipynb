{
 "cells": [
  {
   "cell_type": "code",
   "execution_count": 1,
   "id": "8d40f3af-2d43-4cc1-87ba-ae76367a5d2c",
   "metadata": {},
   "outputs": [],
   "source": [
    "# export dependencies' file paths\n",
    "import sys \n",
    "sys.path.append('/home/jupyter/.local/lib/python3.10/site-packages')\n",
    "sys.path.append('/usr/lib/python3/dist-packages')"
   ]
  },
  {
   "cell_type": "code",
   "execution_count": 2,
   "id": "a9439ec2-893e-4824-b658-77d8e9c3745a",
   "metadata": {
    "tags": []
   },
   "outputs": [],
   "source": [
    "import nbimporter\n",
    "import os\n",
    "from ipynb.fs.full.parse_list import *\n",
    "from ipynb.fs.full.google_image_scrape import *\n",
    "import pandas\n",
    "from datetime import datetime\n",
    "import time"
   ]
  },
  {
   "cell_type": "code",
   "execution_count": 3,
   "id": "50c96deb-8b63-42c3-929a-4743e54ff75d",
   "metadata": {
    "tags": []
   },
   "outputs": [],
   "source": [
    "parent_dir = 'img'\n",
    "os.makedirs(parent_dir, exist_ok=True)  # create the parent directory if it doesn't exist"
   ]
  },
  {
   "cell_type": "code",
   "execution_count": 4,
   "id": "c8a08eb2-9416-4e5c-9c1b-e89705e7c241",
   "metadata": {
    "tags": []
   },
   "outputs": [],
   "source": [
    "master_df = pd.DataFrame([], columns=['Title', 'URL', 'Time', 'Source']) # create master data frame"
   ]
  },
  {
   "cell_type": "code",
   "execution_count": 5,
   "id": "0afad639-6cd7-446b-b4c5-effca46bf665",
   "metadata": {
    "tags": []
   },
   "outputs": [
    {
     "name": "stdout",
     "output_type": "stream",
     "text": [
      "Link element not found within the div element\n",
      "Link element not found within the div element\n",
      "Link element not found within the div element\n",
      "Link element not found within the div element\n",
      "Link element not found within the div element\n",
      "Link element not found within the div element\n",
      "Link element not found within the div element\n",
      "Link element not found within the div element\n",
      "Link element not found within the div element\n",
      "Link element not found within the div element\n",
      "Link element not found within the div element\n",
      "Link element not found within the div element\n",
      "Link element not found within the div element\n",
      "Link element not found within the div element\n",
      "Link element not found within the div element\n",
      "Link element not found within the div element\n",
      "Link element not found within the div element\n",
      "Link element not found within the div element\n",
      "Link element not found within the div element\n",
      "Link element not found within the div element\n",
      "Link element not found within the div element\n",
      "Link element not found within the div element\n",
      "Link element not found within the div element\n",
      "Link element not found within the div element\n"
     ]
    }
   ],
   "source": [
    "# scrape images for each hardware item\n",
    "for name in arr_item:\n",
    "    # output_amazon_df = amazon_image_scrape(name[0], name[1])\n",
    "    # master_df = pd.concat([output_amazon_df , master_df], axis=0)\n",
    "    output_google_df = google_image_scrape(name[0], name[1])\n",
    "    master_df = pd.concat([output_google_df, master_df], axis=0)"
   ]
  },
  {
   "cell_type": "code",
   "execution_count": 6,
   "id": "51687e3c-a4d5-44de-9626-e5d5c73c8032",
   "metadata": {
    "tags": []
   },
   "outputs": [],
   "source": [
    "master_df.to_excel(\"image_metadata.xlsx\") # export data frame to excel file"
   ]
  }
 ],
 "metadata": {
  "kernelspec": {
   "display_name": "Python 3 (ipykernel)",
   "language": "python",
   "name": "python3"
  },
  "language_info": {
   "codemirror_mode": {
    "name": "ipython",
    "version": 3
   },
   "file_extension": ".py",
   "mimetype": "text/x-python",
   "name": "python",
   "nbconvert_exporter": "python",
   "pygments_lexer": "ipython3",
   "version": "3.10.6"
  }
 },
 "nbformat": 4,
 "nbformat_minor": 5
}
